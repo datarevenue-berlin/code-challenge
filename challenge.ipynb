{
 "cells": [
  {
   "cell_type": "code",
   "execution_count": 2,
   "metadata": {
    "collapsed": true
   },
   "outputs": [],
   "source": [
    "import pandas as pd\n",
    "import os\n",
    "import numpy as np\n",
    "import uuid"
   ]
  },
  {
   "cell_type": "code",
   "execution_count": 3,
   "metadata": {
    "collapsed": true
   },
   "outputs": [],
   "source": [
    "SUM_INTERVALS = [(-7,0), (-14,0), (-30,0)]"
   ]
  },
  {
   "cell_type": "markdown",
   "metadata": {},
   "source": [
    "## Generate some random data\n",
    "\n",
    "This function helps you generate some random test data. Call this for your testing/developement purposes. Please don't call this in your final submission as it will slow down our autmatic tests."
   ]
  },
  {
   "cell_type": "code",
   "execution_count": 4,
   "metadata": {
    "collapsed": true
   },
   "outputs": [],
   "source": [
    "def generate_data():\n",
    "    uids = np.array([str(uuid.uuid4()) for _ in range(1000)])\n",
    "    times = pd.date_range('2016-01-01','2016-02-01', freq='d')\n",
    "    data = dict(\n",
    "        id=np.random.choice(uids, 100000),\n",
    "        timestamp=np.random.choice(times, 100000),\n",
    "        feature_a=np.ones(100000),\n",
    "        feature_b=np.zeros(100000),\n",
    "    )\n",
    "\n",
    "    df = pd.DataFrame(data)\\\n",
    "            .set_index('timestamp')\\\n",
    "            .sort_index()\n",
    "\n",
    "    for ts in times:\n",
    "        path = \"data/shard-{:%Y-%m-%d}\".format(ts)\n",
    "        df.loc[ts]\\\n",
    "            .reset_index()\\\n",
    "            .sample(frac=1)\\\n",
    "            .to_csv(path, index=False, compression='gzip')"
   ]
  },
  {
   "cell_type": "markdown",
   "metadata": {},
   "source": [
    "## Challenge:\n",
    "The `SUM_INTERVAL` variable contains relative time intervals in days. So the first means 7 days back until today (asof time writing this 2016-02-01).\n",
    "\n",
    "The generated files contain 1000 distinct users which made visits over the timespan of one month. Each visit has a value for `feature a`, as awell as `feature_b` assigned to it. **For each user calculate the sum of it's respective features for each time interval. The final output should be a dataframe or numpy matrix containing one row per user, an id column an the feature columns (N_users, 1 + N_intervals*N_features)**\n",
    "\n",
    "*You are encouraged to use the pandas library for this task but it is not required.*"
   ]
  },
  {
   "cell_type": "code",
   "execution_count": 5,
   "metadata": {
    "collapsed": true
   },
   "outputs": [],
   "source": [
    "def bin_sum_features(csv_glob=\"data/shard-*.csv.gz\", today=pd.Timestamp('2016-02-01')):\n",
    "    pass"
   ]
  },
  {
   "cell_type": "markdown",
   "metadata": {},
   "source": [
    "## Result shape example\n",
    "below you see how the results could look like with pandas"
   ]
  },
  {
   "cell_type": "code",
   "execution_count": 6,
   "metadata": {},
   "outputs": [
    {
     "data": {
      "text/html": [
       "<div>\n",
       "<style>\n",
       "    .dataframe thead tr:only-child th {\n",
       "        text-align: right;\n",
       "    }\n",
       "\n",
       "    .dataframe thead th {\n",
       "        text-align: left;\n",
       "    }\n",
       "\n",
       "    .dataframe tbody tr th {\n",
       "        vertical-align: top;\n",
       "    }\n",
       "</style>\n",
       "<table border=\"1\" class=\"dataframe\">\n",
       "  <thead>\n",
       "    <tr style=\"text-align: right;\">\n",
       "      <th></th>\n",
       "      <th>id</th>\n",
       "      <th>feature_a_7</th>\n",
       "      <th>feature_a_14</th>\n",
       "      <th>feature_a_30</th>\n",
       "      <th>feature_b_7</th>\n",
       "      <th>feature_b_14</th>\n",
       "      <th>feature_b_30</th>\n",
       "    </tr>\n",
       "  </thead>\n",
       "  <tbody>\n",
       "    <tr>\n",
       "      <th>0</th>\n",
       "      <td>1aa9204b-5956-41a3-96b6-58cbf6bc147e</td>\n",
       "      <td>1</td>\n",
       "      <td>2</td>\n",
       "      <td>3</td>\n",
       "      <td>4</td>\n",
       "      <td>5</td>\n",
       "      <td>6</td>\n",
       "    </tr>\n",
       "  </tbody>\n",
       "</table>\n",
       "</div>"
      ],
      "text/plain": [
       "                                     id  feature_a_7  feature_a_14  \\\n",
       "0  1aa9204b-5956-41a3-96b6-58cbf6bc147e            1             2   \n",
       "\n",
       "   feature_a_30  feature_b_7  feature_b_14  feature_b_30  \n",
       "0             3            4             5             6  "
      ]
     },
     "execution_count": 6,
     "metadata": {},
     "output_type": "execute_result"
    }
   ],
   "source": [
    "pd.DataFrame([['1aa9204b-5956-41a3-96b6-58cbf6bc147e',1,2,3,4,5,6]], \n",
    "             columns=['id', 'feature_a_7', 'feature_a_14', 'feature_a_30', \n",
    "                      'feature_b_7', 'feature_b_14', 'feature_b_30'])"
   ]
  },
  {
   "cell_type": "code",
   "execution_count": null,
   "metadata": {
    "collapsed": true
   },
   "outputs": [],
   "source": []
  }
 ],
 "metadata": {
  "kernelspec": {
   "display_name": "Python 3",
   "language": "python",
   "name": "python3"
  },
  "language_info": {
   "codemirror_mode": {
    "name": "ipython",
    "version": 3
   },
   "file_extension": ".py",
   "mimetype": "text/x-python",
   "name": "python",
   "nbconvert_exporter": "python",
   "pygments_lexer": "ipython3",
   "version": "3.6.2"
  }
 },
 "nbformat": 4,
 "nbformat_minor": 2
}
